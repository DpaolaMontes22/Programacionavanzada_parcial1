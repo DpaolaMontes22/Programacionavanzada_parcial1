{
  "nbformat": 4,
  "nbformat_minor": 0,
  "metadata": {
    "colab": {
      "name": "EjercicioPhyton03.ipynb",
      "provenance": [],
      "authorship_tag": "ABX9TyM6Ap2aWOcVpZ0Svgd8ITXa",
      "include_colab_link": true
    },
    "kernelspec": {
      "name": "python3",
      "display_name": "Python 3"
    },
    "language_info": {
      "name": "python"
    }
  },
  "cells": [
    {
      "cell_type": "markdown",
      "metadata": {
        "id": "view-in-github",
        "colab_type": "text"
      },
      "source": [
        "<a href=\"https://colab.research.google.com/github/DpaolaMontes22/Programacionavanzada_parcial1/blob/main/EjercicioPhyton03.ipynb\" target=\"_parent\"><img src=\"https://colab.research.google.com/assets/colab-badge.svg\" alt=\"Open In Colab\"/></a>"
      ]
    },
    {
      "cell_type": "markdown",
      "source": [
        "UPIIH_PROGRAMACION AVANZADA\n",
        "PROGRAMA QUE TE DICE AL INGRESAR UN AÑO SI ES BISIESTO(ENTEROS)\n",
        "\n",
        "Danna Paola Montes de Oca Hernandez\n",
        "2021680104"
      ],
      "metadata": {
        "id": "ioBoTM54N6Zn"
      }
    },
    {
      "cell_type": "code",
      "source": [
        "i=1\n",
        "while i==1:\n",
        " i=0\n",
        " try:\n",
        "  entero = int(input('Ingrese valor entero:'))\n",
        " except ValueError:\n",
        "   i += 1\n",
        " if entero>0 :\n",
        "  if entero% 100 == 0 and entero% 400 != 0 and entero% 4!=0 : \n",
        "    print('El año no es bisiesto')\n",
        "  if entero% 4 == 0 and entero% 100 != 0 :\n",
        "    print('El año es bisiesto')\n",
        "  elif entero% 400 ==0:\n",
        "     print('El año es bisiesto')\n",
        "  else:\n",
        "    print('El año no es bisiesto')\n",
        " if entero < 0 :\n",
        "    i += 1"
      ],
      "metadata": {
        "colab": {
          "base_uri": "https://localhost:8080/"
        },
        "id": "ANQkRgW2N7RI",
        "outputId": "ccf34b34-67dd-489d-f73b-56b8f66cfc62"
      },
      "execution_count": 37,
      "outputs": [
        {
          "output_type": "stream",
          "name": "stdout",
          "text": [
            "Ingrese valor entero:2093\n",
            "El año no es bisiesto\n"
          ]
        }
      ]
    }
  ]
}
