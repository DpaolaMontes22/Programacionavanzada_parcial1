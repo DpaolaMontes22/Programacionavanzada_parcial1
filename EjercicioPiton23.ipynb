{
  "nbformat": 4,
  "nbformat_minor": 0,
  "metadata": {
    "colab": {
      "name": "EjercicioPiton23.ipynb",
      "provenance": [],
      "collapsed_sections": [],
      "authorship_tag": "ABX9TyOzpDBiY01NGGnZmzwxDpqG",
      "include_colab_link": true
    },
    "kernelspec": {
      "name": "python3",
      "display_name": "Python 3"
    },
    "language_info": {
      "name": "python"
    }
  },
  "cells": [
    {
      "cell_type": "markdown",
      "metadata": {
        "id": "view-in-github",
        "colab_type": "text"
      },
      "source": [
        "<a href=\"https://colab.research.google.com/github/DpaolaMontes22/Programacionavanzada_parcial1/blob/main/EjercicioPiton23.ipynb\" target=\"_parent\"><img src=\"https://colab.research.google.com/assets/colab-badge.svg\" alt=\"Open In Colab\"/></a>"
      ]
    },
    {
      "cell_type": "markdown",
      "source": [
        "UPIIH_PROGRAMACION AVANZADA\n",
        "\n",
        "*PROGRAMA QUE ORDENA ALFABETICAMENTE INVERSE O REVERSAMENTE *\n",
        "\n",
        "Danna Paola Montes de Oca Hernandez\n",
        "2021680104"
      ],
      "metadata": {
        "id": "vzdX2z9fcYyw"
      }
    },
    {
      "cell_type": "code",
      "source": [
        "o=1\n",
        "while o==1:\n",
        "  o=0\n",
        "  texto= input('Ingrese valor entero:')\n",
        "  try:\n",
        "    texto = str(texto) \n",
        "  except ValueError:\n",
        "    i += 1\n",
        "  print('¿Desea ordenarla de manera directa o inversa?')\n",
        "  print('Inversa o Directa')\n",
        "  respuesta= input()\n",
        "\n",
        "  textos=texto.split()\n",
        "  if respuesta=='Inversa':\n",
        "   textos.sort(reverse = True)\n",
        "   print(*textos)\n",
        "   break\n",
        "  elif respuesta== 'Directa':\n",
        "   textos.sort(reverse = False)\n",
        "   print(*textos)\n",
        "   break\n",
        "  elif respuesta!='Directa':\n",
        "   print('Respuesta incorrecta X')\n",
        "   o=0\n",
        "  elif respuesta!='Inversa':\n",
        "   print('Respuesta incorrecta X')\n",
        "   o=0\n",
        "\n",
        "\n",
        "\n"
      ],
      "metadata": {
        "colab": {
          "base_uri": "https://localhost:8080/"
        },
        "id": "Ri1Q0z2EcZNM",
        "outputId": "9f775ee6-1bb2-46cd-a946-7f2f67ed15fa"
      },
      "execution_count": 13,
      "outputs": [
        {
          "output_type": "stream",
          "name": "stdout",
          "text": [
            "Ingrese valor entero:a todos los quiero\n",
            "¿Desea ordenarla de manera directa o inversa?\n",
            "Inversa o Directa\n",
            "Inversa\n",
            "todos quiero los a\n"
          ]
        }
      ]
    }
  ]
}