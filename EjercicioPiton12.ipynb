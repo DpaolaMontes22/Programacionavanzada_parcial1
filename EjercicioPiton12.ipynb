{
  "nbformat": 4,
  "nbformat_minor": 0,
  "metadata": {
    "colab": {
      "name": "EjercicioPiton12.ipynb",
      "provenance": [],
      "collapsed_sections": [],
      "authorship_tag": "ABX9TyNog6iqaw2oGCGkP3vOnibT",
      "include_colab_link": true
    },
    "kernelspec": {
      "name": "python3",
      "display_name": "Python 3"
    },
    "language_info": {
      "name": "python"
    }
  },
  "cells": [
    {
      "cell_type": "markdown",
      "metadata": {
        "id": "view-in-github",
        "colab_type": "text"
      },
      "source": [
        "<a href=\"https://colab.research.google.com/github/DpaolaMontes22/Programacionavanzada_parcial1/blob/main/EjercicioPiton12.ipynb\" target=\"_parent\"><img src=\"https://colab.research.google.com/assets/colab-badge.svg\" alt=\"Open In Colab\"/></a>"
      ]
    },
    {
      "cell_type": "markdown",
      "source": [
        "\n",
        "**UPIIH_PROGRAMACION AVANZADA**\n",
        "\n",
        "PROGRAMA DE NUMEROS PARES O IMPARES(ENTEROS)\n",
        "\n",
        "Danna Paola Montes de Oca Hernandez\n",
        "2021680104"
      ],
      "metadata": {
        "id": "_0RJDhHVzRnN"
      }
    },
    {
      "cell_type": "code",
      "source": [
        "i=1\n",
        "while i==1:\n",
        "  i=0\n",
        "\n",
        "print('Ingrese una frase:')\n",
        "frases=input()\n",
        "\n",
        "try:\n",
        " frase=str(frases)\n",
        "except:\n",
        "  i+=1\n",
        "\n",
        "alfabeto=['a','b','c','d','e','f','g','h','i','j','k','l','m','n','ñ','o','p','q','r','s','t','u','v','w','x','y','z','A','B','C','D','E','F','G','H','I','J','K','L','M','N','Ñ','O','P','Q','R','S','T','U','V','W','X','Y','Z']\n",
        "\n",
        "for i in frase:\n",
        "  for j in range(len(alfabeto)):\n",
        "    if alfabeto[j]==i:\n",
        "      if j!=0:\n",
        "       if j%3==0 :\n",
        "        frase=frase.replace(alfabeto[j],'')\n",
        "   \n",
        "print(frase)\n"
      ],
      "metadata": {
        "colab": {
          "base_uri": "https://localhost:8080/"
        },
        "id": "6iR6fzO_zUe5",
        "outputId": "854c6683-c137-4875-bdf4-a560d4a235e0"
      },
      "execution_count": 27,
      "outputs": [
        {
          "output_type": "stream",
          "name": "stdout",
          "text": [
            "Ingrese una frase:\n",
            "gato jamon\n",
            "at an\n"
          ]
        }
      ]
    }
  ]
}