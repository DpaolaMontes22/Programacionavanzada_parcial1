{
  "nbformat": 4,
  "nbformat_minor": 0,
  "metadata": {
    "colab": {
      "name": "EjercicioPiton22.ipynb",
      "provenance": [],
      "collapsed_sections": [],
      "authorship_tag": "ABX9TyPgjwpcxZeUOs1B8u95+9pX",
      "include_colab_link": true
    },
    "kernelspec": {
      "name": "python3",
      "display_name": "Python 3"
    },
    "language_info": {
      "name": "python"
    }
  },
  "cells": [
    {
      "cell_type": "markdown",
      "metadata": {
        "id": "view-in-github",
        "colab_type": "text"
      },
      "source": [
        "<a href=\"https://colab.research.google.com/github/DpaolaMontes22/Programacionavanzada_parcial1/blob/main/EjercicioPiton22.ipynb\" target=\"_parent\"><img src=\"https://colab.research.google.com/assets/colab-badge.svg\" alt=\"Open In Colab\"/></a>"
      ]
    },
    {
      "cell_type": "markdown",
      "source": [
        "### UPIIH_PROGRAMACION AVANZADA\n",
        "***PROGRAMA DE NUMEROS PARES O IMPARES(ENTEROS)***\n",
        "######Danna Paola Montes de Oca Hernandez\n",
        "2021680104\n"
      ],
      "metadata": {
        "id": "msS1OVM2Y4sk"
      }
    },
    {
      "cell_type": "code",
      "source": [
        "def numerosprimos(n): \n",
        "  lisp=[]\n",
        "  lisnp=[]\n",
        "\n",
        "  for i in range(2, n + 1):\n",
        "        if i not in lisnp:\n",
        "            lisp.append(i)\n",
        "\n",
        "            for j in range(i * i, n + 1, i):\n",
        "                lisnp.append(j)\n",
        "    \n",
        "  return lisp\n",
        "\n",
        "i=1\n",
        "while i==1:\n",
        "  i=0\n",
        "  print('Ingrese el numero entero')\n",
        "  entero=input()\n",
        "  try:\n",
        "   entero=int(entero)\n",
        "  except: \n",
        "   i+=1\n",
        "print(numerosprimos(entero))\n"
      ],
      "metadata": {
        "colab": {
          "base_uri": "https://localhost:8080/"
        },
        "id": "aNVov9hKszAo",
        "outputId": "97ef6a0a-9aa1-478f-9d21-4e5cb2a8cd56"
      },
      "execution_count": 9,
      "outputs": [
        {
          "output_type": "stream",
          "name": "stdout",
          "text": [
            "Ingrese el numero entero\n",
            "100\n",
            "[2, 3, 5, 7, 11, 13, 17, 19, 23, 29, 31, 37, 41, 43, 47, 53, 59, 61, 67, 71, 73, 79, 83, 89, 97]\n"
          ]
        }
      ]
    }
  ]
}