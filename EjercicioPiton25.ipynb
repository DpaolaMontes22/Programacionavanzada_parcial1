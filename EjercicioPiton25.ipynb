{
  "nbformat": 4,
  "nbformat_minor": 0,
  "metadata": {
    "colab": {
      "name": "EjercicioPiton25.ipynb",
      "provenance": [],
      "collapsed_sections": [],
      "authorship_tag": "ABX9TyNpsg0jJzO7aKUpWX87RczZ",
      "include_colab_link": true
    },
    "kernelspec": {
      "name": "python3",
      "display_name": "Python 3"
    },
    "language_info": {
      "name": "python"
    }
  },
  "cells": [
    {
      "cell_type": "markdown",
      "metadata": {
        "id": "view-in-github",
        "colab_type": "text"
      },
      "source": [
        "<a href=\"https://colab.research.google.com/github/DpaolaMontes22/Programacionavanzada_parcial1/blob/main/EjercicioPiton25.ipynb\" target=\"_parent\"><img src=\"https://colab.research.google.com/assets/colab-badge.svg\" alt=\"Open In Colab\"/></a>"
      ]
    },
    {
      "cell_type": "markdown",
      "source": [
        "\n",
        "UPIIH_PROGRAMACION AVANZADA\n",
        "\n",
        "PROGRAMA QUE HACE LA ENUMERACION DE LAS LETRAS EN UN TEXTO\n",
        "\n",
        "Danna Paola Montes de Oca Hernandez\n",
        "2021680104"
      ],
      "metadata": {
        "id": "U1T4YSLUWksi"
      }
    },
    {
      "cell_type": "code",
      "source": [
        "texto= input('Ingrese valor entero:')\n",
        "try:\n",
        "  texto = str(texto) \n",
        "except ValueError:\n",
        "   i += 1\n",
        "   \n",
        "alfabeto='abcdefghijklmnñopqrstuvwxyzABCDEFGHIJKLMNÑOPQRSTUVWXYZ'\n",
        "for i in alfabeto:\n",
        "  b=texto.count(i)\n",
        "  if b!=0:\n",
        "   print('El numero de '+ i +' en el texto es: ')\n",
        "   print(b)\n"
      ],
      "metadata": {
        "colab": {
          "base_uri": "https://localhost:8080/"
        },
        "id": "r0LLNDB7WlJw",
        "outputId": "55a89e2e-3adc-4491-cd63-9dfcb03ac7bb"
      },
      "execution_count": 10,
      "outputs": [
        {
          "output_type": "stream",
          "name": "stdout",
          "text": [
            "Ingrese valor entero:Hola cara de bola\n",
            "El numero de a en el texto es: \n",
            "4\n",
            "El numero de b en el texto es: \n",
            "1\n",
            "El numero de c en el texto es: \n",
            "1\n",
            "El numero de d en el texto es: \n",
            "1\n",
            "El numero de e en el texto es: \n",
            "1\n",
            "El numero de l en el texto es: \n",
            "2\n",
            "El numero de o en el texto es: \n",
            "2\n",
            "El numero de r en el texto es: \n",
            "1\n",
            "El numero de H en el texto es: \n",
            "1\n"
          ]
        }
      ]
    }
  ]
}