{
  "nbformat": 4,
  "nbformat_minor": 0,
  "metadata": {
    "colab": {
      "name": "EjercicioPiton28.ipynb",
      "provenance": [],
      "collapsed_sections": [],
      "authorship_tag": "ABX9TyNZCin5r+xp5pTrCVBW+CEO",
      "include_colab_link": true
    },
    "kernelspec": {
      "name": "python3",
      "display_name": "Python 3"
    },
    "language_info": {
      "name": "python"
    }
  },
  "cells": [
    {
      "cell_type": "markdown",
      "metadata": {
        "id": "view-in-github",
        "colab_type": "text"
      },
      "source": [
        "<a href=\"https://colab.research.google.com/github/DpaolaMontes22/Programacionavanzada_parcial1/blob/main/EjercicioPiton28.ipynb\" target=\"_parent\"><img src=\"https://colab.research.google.com/assets/colab-badge.svg\" alt=\"Open In Colab\"/></a>"
      ]
    },
    {
      "cell_type": "markdown",
      "source": [
        "\n",
        "UPIIH_PROGRAMACION AVANZADA\n",
        "\n",
        "PROGRAMA QUE CALCULA EL PROMEDIO Y DESVIACION DE UNA SERIE DE DATOS\n",
        "\n",
        "Danna Paola Montes de Oca Hernandez\n",
        "2021680104"
      ],
      "metadata": {
        "id": "5qAdllYyQl9X"
      }
    },
    {
      "cell_type": "code",
      "source": [
        "import math \n",
        "lis=[]\n",
        "t=0\n",
        "while t==0:\n",
        "  t=1\n",
        "  o=1\n",
        "  while o==1:\n",
        "   o=0\n",
        "   entero = input('Ingrese valor entero:')\n",
        "   if entero.isalpha( ):\n",
        "    print('tu valor no es numerico')\n",
        "    o=1\n",
        "  print('¿Desea agregar otro numero? Si o No')\n",
        "  respuesta=input()\n",
        "\n",
        "  try:\n",
        "   entero = float(entero)\n",
        "   respuesta = str(respuesta)\n",
        "  except ValueError:\n",
        "    t += 1\n",
        "\n",
        "  lis.append(entero)\n",
        "  if respuesta=='Si':\n",
        "   t=0\n",
        "  elif respuesta== 'No':\n",
        "   break\n",
        "  elif respuesta!='Si':\n",
        "   print('Respuesta incorrecta X')\n",
        "   t=0\n",
        "  elif respuesta!='No':\n",
        "   print('Respuesta incorrecta X')\n",
        "   t=0\n",
        " \n",
        " \n",
        "\n",
        "suma=0\n",
        "for i in range(len(lis)):\n",
        " suma=suma+float(lis[i])\n",
        " promedio=suma/len(lis)\n",
        "\n",
        "suma2=0\n",
        "resta=0\n",
        "\n",
        "for i in range(len(lis)):\n",
        "  resta=float(float(lis[i])-promedio)\n",
        "  resta=pow(resta,2) \n",
        "  suma2=suma2+resta\n",
        "desviacion=math.sqrt(abs(suma2/(len(lis)-1)))\n",
        "\n",
        "print('Los datos son: ',*lis)\n",
        "print('El promedio es: ',promedio)\n",
        "print('La desviacion estandar es: ', desviacion)\n",
        "\n",
        " "
      ],
      "metadata": {
        "colab": {
          "base_uri": "https://localhost:8080/"
        },
        "id": "UgtlGntDQmwR",
        "outputId": "dd15aa70-3700-4f6a-ab41-41d8cf95e9d4"
      },
      "execution_count": 44,
      "outputs": [
        {
          "output_type": "stream",
          "name": "stdout",
          "text": [
            "Ingrese valor entero:3\n",
            "¿Desea agregar otro numero? Si o No\n",
            "Si\n",
            "Ingrese valor entero:5\n",
            "¿Desea agregar otro numero? Si o No\n",
            "Si\n",
            "Ingrese valor entero:8\n",
            "¿Desea agregar otro numero? Si o No\n",
            "Si\n",
            "Ingrese valor entero:12\n",
            "¿Desea agregar otro numero? Si o No\n",
            "No\n",
            "Los datos son:  3.0 5.0 8.0 12.0\n",
            "El promedio es:  7.0\n",
            "La desviacion estandar es:  3.9157800414902435\n"
          ]
        }
      ]
    }
  ]
}