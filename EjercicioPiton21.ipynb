{
  "nbformat": 4,
  "nbformat_minor": 0,
  "metadata": {
    "colab": {
      "name": "EjercicioPiton21.ipynb",
      "provenance": [],
      "collapsed_sections": [],
      "authorship_tag": "ABX9TyO3+2VWxV8BonUXS75U3hfh",
      "include_colab_link": true
    },
    "kernelspec": {
      "name": "python3",
      "display_name": "Python 3"
    },
    "language_info": {
      "name": "python"
    }
  },
  "cells": [
    {
      "cell_type": "markdown",
      "metadata": {
        "id": "view-in-github",
        "colab_type": "text"
      },
      "source": [
        "<a href=\"https://colab.research.google.com/github/DpaolaMontes22/Programacionavanzada_parcial1/blob/main/EjercicioPiton21.ipynb\" target=\"_parent\"><img src=\"https://colab.research.google.com/assets/colab-badge.svg\" alt=\"Open In Colab\"/></a>"
      ]
    },
    {
      "cell_type": "code",
      "source": [
        "i=1\n",
        "while i==1:\n",
        " i=0\n",
        " enterop= input('Ingrese valor entero:')\n",
        " try:\n",
        "  entero  = int(enterop)\n",
        " except ValueError:\n",
        "   i += 1\n",
        " lis=[]  \n",
        "\n",
        " suma=0\n",
        " enterop=entero*entero\n",
        " print(entero,end='^2=')\n",
        " print(entero*entero)\n",
        "\n",
        " t=1\n",
        " while t==1: \n",
        "   suma=0\n",
        "   lis.clear()\n",
        "   enterop=str(enterop)\n",
        "\n",
        "   for j in enterop:\n",
        "    lis.append(j)\n",
        "    print(j)\n",
        "   lon=len(lis)\n",
        "\n",
        "   for k in range (lon):\n",
        "    suma= suma+(int(lis[k])*int(lis[k]))\n",
        "    print(int(lis[k]),end='+')\n",
        "   enterop=suma\n",
        "   print(suma)\n",
        "   if suma==1:\n",
        "    print('Por lo tanto '+str(entero)+' es un numero ¡¡Feliz!! :D')\n",
        "    break\n",
        "   elif suma%4==0 :\n",
        "    print('Por lo tanto '+str(entero)+' es un numero triste!! :´(')\n",
        "    break\n",
        "\n",
        "\n"
      ],
      "metadata": {
        "colab": {
          "base_uri": "https://localhost:8080/"
        },
        "id": "LqnMNwmUi8r1",
        "outputId": "4e62931d-5741-4d81-8a85-054c30907e2d"
      },
      "execution_count": 4,
      "outputs": [
        {
          "output_type": "stream",
          "name": "stdout",
          "text": [
            "Ingrese valor entero:7\n",
            "7^2=49\n",
            "4\n",
            "9\n",
            "4+9+97\n",
            "9\n",
            "7\n",
            "9+7+130\n",
            "1\n",
            "3\n",
            "0\n",
            "1+3+0+10\n",
            "1\n",
            "0\n",
            "1+0+1\n",
            "Por lo tanto 7 es un numero ¡¡Feliz!! :D\n"
          ]
        }
      ]
    }
  ]
}