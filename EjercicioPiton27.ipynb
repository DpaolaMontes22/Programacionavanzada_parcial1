{
  "nbformat": 4,
  "nbformat_minor": 0,
  "metadata": {
    "colab": {
      "name": "EjercicioPiton27.ipynb",
      "provenance": [],
      "collapsed_sections": [],
      "authorship_tag": "ABX9TyOQjmnQ5UG8kEfTGZkzinyV",
      "include_colab_link": true
    },
    "kernelspec": {
      "name": "python3",
      "display_name": "Python 3"
    },
    "language_info": {
      "name": "python"
    }
  },
  "cells": [
    {
      "cell_type": "markdown",
      "metadata": {
        "id": "view-in-github",
        "colab_type": "text"
      },
      "source": [
        "<a href=\"https://colab.research.google.com/github/DpaolaMontes22/Programacionavanzada_parcial1/blob/main/EjercicioPiton27.ipynb\" target=\"_parent\"><img src=\"https://colab.research.google.com/assets/colab-badge.svg\" alt=\"Open In Colab\"/></a>"
      ]
    },
    {
      "cell_type": "code",
      "source": [
        "### UPIIH_PROGRAMACION AVANZADA\n",
        "***PROGRAMA QUE TE DICE SI UN NUMERO ES PALINDROMO***\n",
        "######Danna Paola Montes de Oca Hernandez\n",
        "202168010"
      ],
      "metadata": {
        "id": "D8RoE8fv2IZt"
      },
      "execution_count": null,
      "outputs": []
    },
    {
      "cell_type": "code",
      "execution_count": 25,
      "metadata": {
        "colab": {
          "base_uri": "https://localhost:8080/"
        },
        "id": "h4IjadwOx8C8",
        "outputId": "f92ffd2a-a130-4468-9ac4-c63b2d658a8d"
      },
      "outputs": [
        {
          "output_type": "stream",
          "name": "stdout",
          "text": [
            "Ingrese una frase:\n",
            "ORO\n",
            "ORO = ORO\n",
            "¡Es un palindromo!\n"
          ]
        }
      ],
      "source": [
        "print('Ingrese una frase:')\n",
        "frase=str(input())\n",
        "lista=[]\n",
        "lista2=[]\n",
        "\n",
        "for i in frase:\n",
        "  lista.append(i)\n",
        "  lista2.append(i)\n",
        "\n",
        "lista2.reverse()\n",
        "\n",
        "\n",
        "\n",
        "if lista==lista2:\n",
        "  c='' \n",
        "  d=''\n",
        "  for k in lista : \n",
        "    c  = c +''.join(k)\n",
        "  print(c,end=' = ')\n",
        "  for k in lista2 :\n",
        "    d  = d +''.join(k)\n",
        "  print(d)\n",
        "  print('¡Es un palindromo!')\n",
        "\n",
        "else:\n",
        " c='' \n",
        " d=''\n",
        " for k in lista : \n",
        "    c  = c +''.join(k)\n",
        " print(c,end=' != ')\n",
        " for k in lista2 :\n",
        "    d  = d +''.join(k)\n",
        " print(d)\n",
        " print('¡No es un palindromo!') "
      ]
    }
  ]
}