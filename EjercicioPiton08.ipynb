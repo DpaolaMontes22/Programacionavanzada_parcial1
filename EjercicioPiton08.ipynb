{
  "nbformat": 4,
  "nbformat_minor": 0,
  "metadata": {
    "colab": {
      "name": "EjercicioPiton08.ipynb",
      "provenance": [],
      "collapsed_sections": [],
      "authorship_tag": "ABX9TyNTunkcccunoHtROFyMI/jm",
      "include_colab_link": true
    },
    "kernelspec": {
      "name": "python3",
      "display_name": "Python 3"
    },
    "language_info": {
      "name": "python"
    }
  },
  "cells": [
    {
      "cell_type": "markdown",
      "metadata": {
        "id": "view-in-github",
        "colab_type": "text"
      },
      "source": [
        "<a href=\"https://colab.research.google.com/github/DpaolaMontes22/Programacionavanzada_parcial1/blob/main/EjercicioPiton08.ipynb\" target=\"_parent\"><img src=\"https://colab.research.google.com/assets/colab-badge.svg\" alt=\"Open In Colab\"/></a>"
      ]
    },
    {
      "cell_type": "markdown",
      "source": [
        "UPIIH_PROGRAMACION AVANZADA\n",
        "\n",
        "PROGRAMA QUE PERMITE INVERTIR UN NUMERO ENTERO POSITIVO INGRESADO\n",
        "\n",
        "\n",
        "Danna Paola Montes de Oca Hernandez\n",
        "2021680104"
      ],
      "metadata": {
        "id": "dNoXREWlFHxs"
      }
    },
    {
      "cell_type": "code",
      "source": [
        "i=1\n",
        "while i==1:\n",
        " i=0\n",
        " enterop=input('Ingrese valor entero:')\n",
        " try:\n",
        "  entero = int(enterop)\n",
        " except ValueError:\n",
        "   i += 1\n",
        " \n",
        " num=enterop\n",
        " print(num[::-1])\n",
        "  \n",
        " if entero < 0 | isinstance(enterop,int)==True:\n",
        "  i += 1"
      ],
      "metadata": {
        "colab": {
          "base_uri": "https://localhost:8080/"
        },
        "id": "yLdZ0sMoFJLB",
        "outputId": "e98a7da9-1a0a-452d-cd8d-e8e6e5ea160a"
      },
      "execution_count": 39,
      "outputs": [
        {
          "output_type": "stream",
          "name": "stdout",
          "text": [
            "Ingrese valor entero:345\n",
            "543\n"
          ]
        }
      ]
    }
  ]
}