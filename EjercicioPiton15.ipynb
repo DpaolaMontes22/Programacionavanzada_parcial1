{
  "nbformat": 4,
  "nbformat_minor": 0,
  "metadata": {
    "colab": {
      "name": "EjercicioPiton15.ipynb",
      "provenance": [],
      "collapsed_sections": [],
      "authorship_tag": "ABX9TyNjgqf2oPNunUEo+7kht/J3",
      "include_colab_link": true
    },
    "kernelspec": {
      "name": "python3",
      "display_name": "Python 3"
    },
    "language_info": {
      "name": "python"
    }
  },
  "cells": [
    {
      "cell_type": "markdown",
      "metadata": {
        "id": "view-in-github",
        "colab_type": "text"
      },
      "source": [
        "<a href=\"https://colab.research.google.com/github/DpaolaMontes22/Programacionavanzada_parcial1/blob/main/EjercicioPiton15.ipynb\" target=\"_parent\"><img src=\"https://colab.research.google.com/assets/colab-badge.svg\" alt=\"Open In Colab\"/></a>"
      ]
    },
    {
      "cell_type": "markdown",
      "source": [
        "### UPIIH_PROGRAMACION AVANZADA\n",
        "***PROGRAMA QUE OBTIENE EL MCD Y mcm\n",
        " DE DOS NUMEROS***\n",
        "######Danna Paola Montes de Oca Hernandez\n",
        "2021680104\n"
      ],
      "metadata": {
        "id": "uD_g68c58clf"
      }
    },
    {
      "cell_type": "code",
      "source": [
        "i=1\n",
        "while i==1:\n",
        " i=0\n",
        " Ai= input('Ingrese valor entero POSITIVO:')\n",
        " Bi= input('Ingrese valor entero POSITIVO:')\n",
        " try:\n",
        "  A= int(Ai)\n",
        "  B= int(Bi)\n",
        " except ValueError:\n",
        "   i += 1\n",
        "\n",
        " while A>=0 & B>=0:\n",
        "  if A==0:\n",
        "   print('MCD=',B)\n",
        "  elif B==0:\n",
        "   print('MCD=',A)\n",
        "  elif A>B:\n",
        "    multi=A*B\n",
        "    while B!=0:\n",
        "     Q=A/B \n",
        "     R=A%B\n",
        "     A=B\n",
        "     B=R\n",
        "     MCD=A\n",
        "    mcm=multi/MCD\n",
        "    print(\"El MCD es:\",MCD)\n",
        "    print(\"El mcm es:\",mcm)\n",
        "    break\n",
        "\n",
        "  elif B>A:\n",
        "    multi=A*B\n",
        "    while A!=0:\n",
        "     Q=B/A \n",
        "     R=B%A\n",
        "     B=A\n",
        "     A=R\n",
        "    MCD=B\n",
        "    mcm=multi/MCD\n",
        "    print(\"El MCD es:\",MCD)\n",
        "    print(\"El mcm es:\",mcm)\n",
        "    break\n",
        "\n",
        " if A <0 :\n",
        "  i += 1\n",
        " elif B < 0:\n",
        "  i += 1"
      ],
      "metadata": {
        "id": "EEnZZ67ZvFcu",
        "colab": {
          "base_uri": "https://localhost:8080/"
        },
        "outputId": "5bd89841-acc2-4b98-8aae-ec7fd6e30180"
      },
      "execution_count": 40,
      "outputs": [
        {
          "output_type": "stream",
          "name": "stdout",
          "text": [
            "Ingrese valor entero POSITIVO:2520\n",
            "Ingrese valor entero POSITIVO:8316\n",
            "El MCD es: 252\n",
            "El mcm es: 83160.0\n"
          ]
        }
      ]
    }
  ]
}