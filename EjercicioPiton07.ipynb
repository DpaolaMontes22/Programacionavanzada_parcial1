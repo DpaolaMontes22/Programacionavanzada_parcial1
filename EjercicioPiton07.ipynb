{
  "nbformat": 4,
  "nbformat_minor": 0,
  "metadata": {
    "colab": {
      "name": "EjercicioPiton07.ipynb",
      "provenance": [],
      "authorship_tag": "ABX9TyNcwEL5wnmcmlKFTk9c8oNe",
      "include_colab_link": true
    },
    "kernelspec": {
      "name": "python3",
      "display_name": "Python 3"
    },
    "language_info": {
      "name": "python"
    }
  },
  "cells": [
    {
      "cell_type": "markdown",
      "metadata": {
        "id": "view-in-github",
        "colab_type": "text"
      },
      "source": [
        "<a href=\"https://colab.research.google.com/github/DpaolaMontes22/Programacionavanzada_parcial1/blob/main/EjercicioPiton07.ipynb\" target=\"_parent\"><img src=\"https://colab.research.google.com/assets/colab-badge.svg\" alt=\"Open In Colab\"/></a>"
      ]
    },
    {
      "cell_type": "markdown",
      "source": [
        "UPIIH_PROGRAMACION AVANZADA PROGRAMAS QUE IMPRIME UN TRIANGULO DE NUMEROS \n",
        "\n",
        "Danna Paola Montes de Oca Hernandez 2021680104"
      ],
      "metadata": {
        "id": "0H15q7y-PsOn"
      }
    },
    {
      "cell_type": "code",
      "source": [
        "i=1\n",
        "while i==1:\n",
        " i=0\n",
        " try:\n",
        "  print('Ingresa dos numeros enteros')\n",
        "  a= int(input('Ingrese valor entero:'))\n",
        "  b= int(input('Ingrese valor entero:'))\n",
        "  print('\\t')\n",
        " except ValueError:\n",
        "    i += 1\n",
        "\n",
        " intervalo=[]\n",
        " print('El intervalo es:')\n",
        " for i in range(a,b+1):\n",
        "  intervalo.append(i)\n",
        " for k in intervalo:\n",
        "    print(k,end=\" \")\n",
        "\n",
        " long= len(intervalo)\n",
        " print('\\t')\n",
        "\n",
        " multiplicaion=[]\n",
        " suma=[]\n",
        " print('\\t')\n",
        " for k in range(long):\n",
        "  multiplicaion.append([])\n",
        "  suma.append([])\n",
        "  for j in range(long):\n",
        "   multiplicaion[k].append(intervalo[k]*intervalo[j])\n",
        "   suma[k].append(intervalo[k]+intervalo[j])\n",
        "\n",
        " for u in multiplicaion:\n",
        "    print (u)\n",
        " print('\\t')\n",
        " for y in suma :\n",
        "    print (y)\n",
        "\n",
        " if a >b or a==b:\n",
        "    i += 1\n",
        "    print(\"Valor NO válido\")"
      ],
      "metadata": {
        "colab": {
          "base_uri": "https://localhost:8080/"
        },
        "id": "0j_ExpRXPshb",
        "outputId": "1942091d-d1cd-4631-8654-c88347f917c5"
      },
      "execution_count": 36,
      "outputs": [
        {
          "output_type": "stream",
          "name": "stdout",
          "text": [
            "Ingresa dos numeros enteros\n",
            "Ingrese valor entero:7\n",
            "Ingrese valor entero:4\n",
            "\t\n",
            "El intervalo es:\n",
            "\t\n",
            "\t\n",
            "\t\n",
            "Valor NO válido\n",
            "Ingresa dos numeros enteros\n",
            "Ingrese valor entero:3\n",
            "Ingrese valor entero:7\n",
            "\t\n",
            "El intervalo es:\n",
            "3 4 5 6 7 \t\n",
            "\t\n",
            "[9, 12, 15, 18, 21]\n",
            "[12, 16, 20, 24, 28]\n",
            "[15, 20, 25, 30, 35]\n",
            "[18, 24, 30, 36, 42]\n",
            "[21, 28, 35, 42, 49]\n",
            "\t\n",
            "[6, 7, 8, 9, 10]\n",
            "[7, 8, 9, 10, 11]\n",
            "[8, 9, 10, 11, 12]\n",
            "[9, 10, 11, 12, 13]\n",
            "[10, 11, 12, 13, 14]\n"
          ]
        }
      ]
    }
  ]
}