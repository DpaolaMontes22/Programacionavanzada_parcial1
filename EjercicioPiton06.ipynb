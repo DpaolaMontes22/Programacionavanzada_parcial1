{
  "nbformat": 4,
  "nbformat_minor": 0,
  "metadata": {
    "colab": {
      "name": "Año dividido en decenas, centenas, etc.ipynb",
      "provenance": [],
      "collapsed_sections": [],
      "authorship_tag": "ABX9TyMQbZT+2JhuHbjf0Hu8LeA0",
      "include_colab_link": true
    },
    "kernelspec": {
      "name": "python3",
      "display_name": "Python 3"
    },
    "language_info": {
      "name": "python"
    }
  },
  "cells": [
    {
      "cell_type": "markdown",
      "metadata": {
        "id": "view-in-github",
        "colab_type": "text"
      },
      "source": [
        "<a href=\"https://colab.research.google.com/github/DpaolaMontes22/Programacionavanzada_parcial1/blob/main/EjercicioPiton06.ipynb\" target=\"_parent\"><img src=\"https://colab.research.google.com/assets/colab-badge.svg\" alt=\"Open In Colab\"/></a>"
      ]
    },
    {
      "cell_type": "markdown",
      "source": [
        "UPIIH_PROGRAMACION AVANZADA\n",
        "PROGRAMA QUE SEPARA UN NUMERO EN DECENAS, CENTENAS, MILLARES, ETC\n",
        "\n",
        "Danna Paola Montes de Oca Hernandez\n",
        "2021680104"
      ],
      "metadata": {
        "id": "sh9ERpDOz4Ln"
      }
    },
    {
      "cell_type": "code",
      "source": [
        "lst = []\n",
        "def string_int(my_data):\n",
        "    for i in my_data:\n",
        "        lst.append(int(i))\n",
        "    \n",
        "\n",
        "user_input = input(\"Enter a number: \")\n",
        "string_int(user_input)\n",
        "lst2=lst.copy()\n",
        "lst2.reverse()\n",
        "t=len(lst2)\n",
        "for k in range(t):\n",
        "  for i in range(k):\n",
        "   lst2[k]=lst2[k]*10\n",
        "\n",
        "print(lst2)\n"
      ],
      "metadata": {
        "colab": {
          "base_uri": "https://localhost:8080/"
        },
        "id": "Zl5bmfgZz7iH",
        "outputId": "2c00adf4-0803-42f8-839d-ddfe412dba10"
      },
      "execution_count": null,
      "outputs": [
        {
          "output_type": "stream",
          "name": "stdout",
          "text": [
            "Enter a number: 1980\n",
            "[0, 80, 900, 1000]\n"
          ]
        }
      ]
    }
  ]
}