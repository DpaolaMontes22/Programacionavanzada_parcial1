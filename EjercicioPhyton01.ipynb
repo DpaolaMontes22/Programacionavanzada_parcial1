{
  "nbformat": 4,
  "nbformat_minor": 0,
  "metadata": {
    "colab": {
      "name": "EjercicioPhyton01.ipynb",
      "provenance": [],
      "authorship_tag": "ABX9TyNBMYlg5YKFxA3u31niqCDg",
      "include_colab_link": true
    },
    "kernelspec": {
      "name": "python3",
      "display_name": "Python 3"
    },
    "language_info": {
      "name": "python"
    }
  },
  "cells": [
    {
      "cell_type": "markdown",
      "metadata": {
        "id": "view-in-github",
        "colab_type": "text"
      },
      "source": [
        "<a href=\"https://colab.research.google.com/github/DpaolaMontes22/Programacionavanzada_parcial1/blob/main/EjercicioPhyton01.ipynb\" target=\"_parent\"><img src=\"https://colab.research.google.com/assets/colab-badge.svg\" alt=\"Open In Colab\"/></a>"
      ]
    },
    {
      "cell_type": "markdown",
      "source": [
        "Danna Paola Montes de Oca Hernandez\n",
        "2021680104\n",
        "### UPMH_PROGRAMACION AVANZADA\n",
        "***PROGRAMA DE NUMEROS PARES O IMPARES(ENTEROS)***"
      ],
      "metadata": {
        "id": "b43HPdkmu6wi"
      }
    },
    {
      "cell_type": "code",
      "source": [
        "i=1\n",
        "while i==1:\n",
        " i=0\n",
        " try:\n",
        "  entero = int(input('Ingrese valor entero:'))\n",
        " except ValueError:\n",
        "   i += 1\n",
        " if entero>0 :\n",
        "  if entero% 2 == 0 :\n",
        "    print('El numero es par')\n",
        "  elif entero% 2 != 0 : \n",
        "    print('El numero es impar')\n",
        " if entero < 0 :\n",
        "    i += 1\n",
        " "
      ],
      "metadata": {
        "id": "EEnZZ67ZvFcu"
      },
      "execution_count": null,
      "outputs": []
    }
  ]
}