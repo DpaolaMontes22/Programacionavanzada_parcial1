{
  "nbformat": 4,
  "nbformat_minor": 0,
  "metadata": {
    "colab": {
      "name": " EjercicioPiton04.ipynb",
      "provenance": [],
      "authorship_tag": "ABX9TyPjlk/bsRb+MmDp+Z16SFZQ",
      "include_colab_link": true
    },
    "kernelspec": {
      "name": "python3",
      "display_name": "Python 3"
    },
    "language_info": {
      "name": "python"
    }
  },
  "cells": [
    {
      "cell_type": "markdown",
      "metadata": {
        "id": "view-in-github",
        "colab_type": "text"
      },
      "source": [
        "<a href=\"https://colab.research.google.com/github/DpaolaMontes22/Programacionavanzada_parcial1/blob/main/EjercicioPiton04.ipynb\" target=\"_parent\"><img src=\"https://colab.research.google.com/assets/colab-badge.svg\" alt=\"Open In Colab\"/></a>"
      ]
    },
    {
      "cell_type": "markdown",
      "source": [
        "UPIIH_PROGRAMACION AVANZADA PROGRAMA DE NUMEROS PARES O IMPARES(ENTEROS)\n",
        "\n",
        "Danna Paola Montes de Oca Hernandez 2021680104"
      ],
      "metadata": {
        "id": "wd5e9mu_MrKo"
      }
    },
    {
      "cell_type": "markdown",
      "source": [
        ""
      ],
      "metadata": {
        "id": "WT4qmcH1M2C6"
      }
    },
    {
      "cell_type": "code",
      "source": [
        "i=1\n",
        "while i==1:\n",
        " i=0\n",
        " try:\n",
        "  entero = int(input('Ingrese valor entero:'))\n",
        "  entero=entero-1\n",
        " except ValueError:\n",
        "   i += 1\n",
        " matrix=[]\n",
        " sqrt=entero\n",
        "\n",
        " for i in range(sqrt):\n",
        "   matrix.append([])\n",
        "   for j in range(sqrt):\n",
        "      if i<j:\n",
        "       matrix[i].append(\"\")\n",
        "      elif j==i:\n",
        "       matrix[i].append(1)\n",
        "      elif i>j  : \n",
        "        if i-j==2:\n",
        "         matrix[i].append((3*i-3*j)+1)   \n",
        "        else:\n",
        "         matrix[i].append(3*i-3*j)   \n",
        "b=\"\"\n",
        "for i in range (sqrt):\n",
        "  for j in range(sqrt):\n",
        "    b += str(matrix[i][j])+ '\\t'\n",
        "  print(b)\n",
        "  b=\"\"\n",
        "if entero < 0 :\n",
        "    i += 1"
      ],
      "metadata": {
        "colab": {
          "base_uri": "https://localhost:8080/"
        },
        "id": "KgyNMht7Mr1I",
        "outputId": "71c2727e-8dc6-4988-9f39-06df818cdb05"
      },
      "execution_count": 65,
      "outputs": [
        {
          "output_type": "stream",
          "name": "stdout",
          "text": [
            "Ingrese valor entero:5\n",
            "1\t\t\t\t\n",
            "3\t1\t\t\t\n",
            "7\t3\t1\t\t\n",
            "9\t7\t3\t1\t\n"
          ]
        }
      ]
    }
  ]
}