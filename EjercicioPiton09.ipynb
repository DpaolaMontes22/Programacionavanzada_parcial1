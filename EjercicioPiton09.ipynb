{
  "nbformat": 4,
  "nbformat_minor": 0,
  "metadata": {
    "colab": {
      "name": "EjercicioPiton09.ipynb",
      "provenance": [],
      "collapsed_sections": [],
      "authorship_tag": "ABX9TyO52Kf+S1/vV6fzL93UogDZ",
      "include_colab_link": true
    },
    "kernelspec": {
      "name": "python3",
      "display_name": "Python 3"
    },
    "language_info": {
      "name": "python"
    }
  },
  "cells": [
    {
      "cell_type": "markdown",
      "metadata": {
        "id": "view-in-github",
        "colab_type": "text"
      },
      "source": [
        "<a href=\"https://colab.research.google.com/github/DpaolaMontes22/Programacionavanzada_parcial1/blob/main/EjercicioPiton09.ipynb\" target=\"_parent\"><img src=\"https://colab.research.google.com/assets/colab-badge.svg\" alt=\"Open In Colab\"/></a>"
      ]
    },
    {
      "cell_type": "markdown",
      "source": [
        "UPIIH_PROGRAMACION AVANZADA \n",
        "\n",
        "PROGRAMAS QUE SUMA LOS DIGITOS DE UN NUMERO\n",
        "\n",
        "Danna Paola Montes de Oca Hernandez 2021680104"
      ],
      "metadata": {
        "id": "OIsxu1_KT3Rr"
      }
    },
    {
      "cell_type": "code",
      "source": [
        "i=1\n",
        "while i==1:\n",
        " i=0\n",
        " try:\n",
        "  entero = int(input('Ingrese valor entero:'))\n",
        " except ValueError:\n",
        "   i += 1\n",
        " lista=[]  \n",
        " enterop=str(entero)\n",
        " longitud=len(enterop)\n",
        "\n",
        " for j in enterop:\n",
        "   lista.append(j)\n",
        " suma=0\n",
        " \n",
        " for i in range (longitud):\n",
        "   num=int(lista[i])\n",
        "   suma=suma+num\n",
        " \n",
        " print(\"Suma=\",end=' ')\n",
        " for i in lista: \n",
        "   print(i,end='+')\n",
        " print('=',suma)\n",
        " if entero < 0 :\n",
        "    i += 1"
      ],
      "metadata": {
        "colab": {
          "base_uri": "https://localhost:8080/"
        },
        "id": "-gcSIrbQT4Ez",
        "outputId": "920226e3-4149-4272-8654-cf1a572a30a3"
      },
      "execution_count": 56,
      "outputs": [
        {
          "output_type": "stream",
          "name": "stdout",
          "text": [
            "Ingrese valor entero:456\n",
            "Suma= 4+5+6+= 15\n"
          ]
        }
      ]
    }
  ]
}