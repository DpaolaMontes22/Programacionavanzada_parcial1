{
  "nbformat": 4,
  "nbformat_minor": 0,
  "metadata": {
    "colab": {
      "name": "Untitled9.ipynb",
      "provenance": [],
      "collapsed_sections": [],
      "authorship_tag": "ABX9TyMU0rtbTBBvFIH4Poa1/jmc",
      "include_colab_link": true
    },
    "kernelspec": {
      "name": "python3",
      "display_name": "Python 3"
    },
    "language_info": {
      "name": "python"
    }
  },
  "cells": [
    {
      "cell_type": "markdown",
      "metadata": {
        "id": "view-in-github",
        "colab_type": "text"
      },
      "source": [
        "<a href=\"https://colab.research.google.com/github/DpaolaMontes22/Programacionavanzada_parcial1/blob/main/Untitled9.ipynb\" target=\"_parent\"><img src=\"https://colab.research.google.com/assets/colab-badge.svg\" alt=\"Open In Colab\"/></a>"
      ]
    },
    {
      "cell_type": "markdown",
      "source": [
        "UPIIH_PROGRAMACION AVANZADA \n",
        "\n",
        "PROGRAMAS QUE SUMA LOS DIGITOS DE UN NUMERO\n",
        "\n",
        "Danna Paola Montes de Oca Hernandez 2021680104"
      ],
      "metadata": {
        "id": "OIsxu1_KT3Rr"
      }
    },
    {
      "cell_type": "code",
      "source": [
        "i=1\n",
        "while i==1:\n",
        " i=0\n",
        " try:\n",
        "  entero = int(input('Ingrese valor entero:'))\n",
        " except ValueError:\n",
        "   i += 1\n",
        " lista=[]  \n",
        " enterop=str(entero)\n",
        " longitud=len(enterop)\n",
        "\n",
        " for j in enterop:\n",
        "   lista.append(j)\n",
        " print(lista)\n",
        " suma=0\n",
        " for i in range (longitud):\n",
        "   num=int(lista[i])\n",
        "   suma=suma+num\n",
        " print(suma)\n",
        " if entero < 0 :\n",
        "    i += 1"
      ],
      "metadata": {
        "colab": {
          "base_uri": "https://localhost:8080/"
        },
        "id": "-gcSIrbQT4Ez",
        "outputId": "6d7ff217-2e26-4a54-8384-20092dd0d0e8"
      },
      "execution_count": 23,
      "outputs": [
        {
          "output_type": "stream",
          "name": "stdout",
          "text": [
            "Ingrese valor entero:345\n",
            "['3', '4', '5']\n",
            "12\n"
          ]
        }
      ]
    }
  ]
}