{
  "nbformat": 4,
  "nbformat_minor": 0,
  "metadata": {
    "colab": {
      "name": "EjercicioPiton10.ipynb",
      "provenance": [],
      "collapsed_sections": [],
      "authorship_tag": "ABX9TyPmmr3K2IhLMekr7f0xM45X",
      "include_colab_link": true
    },
    "kernelspec": {
      "name": "python3",
      "display_name": "Python 3"
    },
    "language_info": {
      "name": "python"
    }
  },
  "cells": [
    {
      "cell_type": "markdown",
      "metadata": {
        "id": "view-in-github",
        "colab_type": "text"
      },
      "source": [
        "<a href=\"https://colab.research.google.com/github/DpaolaMontes22/Programacionavanzada_parcial1/blob/main/EjercicioPiton10.ipynb\" target=\"_parent\"><img src=\"https://colab.research.google.com/assets/colab-badge.svg\" alt=\"Open In Colab\"/></a>"
      ]
    },
    {
      "cell_type": "markdown",
      "source": [
        "UPIIH_PROGRAMACION AVANZADA \n",
        "\n",
        "PROGRAMAS QUE PERMITE CALCULAR EL DOBLE FACTORIAL DE UN NUMERO\n",
        "\n",
        "Danna Paola Montes de Oca Hernandez 2021680104"
      ],
      "metadata": {
        "id": "xmNjqJV7m0kE"
      }
    },
    {
      "cell_type": "code",
      "source": [
        "i=1\n",
        "while i==1:\n",
        " i=0\n",
        " numeros = input('Ingrese valor entero:')\n",
        " try:\n",
        "  numero = int(numeros)\n",
        " except ValueError:\n",
        "   i += 1\n",
        " numerox=numero\n",
        "\n",
        "\n",
        " if numero>0 :\n",
        "   if numero% 2 == 0 :\n",
        "    factorial=numero\n",
        "    while numerox >2:\n",
        "     numerox=numerox-2\n",
        "     factorial = factorial*(numerox)\n",
        "    \n",
        "   elif numero % 2!= 0 :\n",
        "     factorial=numero\n",
        "     while numerox!=1:\n",
        "      numerox=numerox-2\n",
        "      factorial = factorial*(numerox)    \n",
        "                      \n",
        " print('El factorial es:'+str(factorial)) \n",
        " if numero < 0 :\n",
        "    i += 1\n",
        " "
      ],
      "metadata": {
        "colab": {
          "base_uri": "https://localhost:8080/"
        },
        "id": "wR5J-Pnjm05j",
        "outputId": "f777c1d2-acee-4bad-e895-7ca3db4d39f6"
      },
      "execution_count": 38,
      "outputs": [
        {
          "output_type": "stream",
          "name": "stdout",
          "text": [
            "Ingrese valor entero:9\n",
            "El factorial es:945\n"
          ]
        }
      ]
    }
  ]
}