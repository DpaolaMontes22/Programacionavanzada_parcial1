{
  "nbformat": 4,
  "nbformat_minor": 0,
  "metadata": {
    "colab": {
      "name": "EjercicioPiton16.ipynb",
      "provenance": [],
      "collapsed_sections": [],
      "authorship_tag": "ABX9TyNX3payiaYSj+n8vuw9cr5I",
      "include_colab_link": true
    },
    "kernelspec": {
      "name": "python3",
      "display_name": "Python 3"
    },
    "language_info": {
      "name": "python"
    }
  },
  "cells": [
    {
      "cell_type": "markdown",
      "metadata": {
        "id": "view-in-github",
        "colab_type": "text"
      },
      "source": [
        "<a href=\"https://colab.research.google.com/github/DpaolaMontes22/Programacionavanzada_parcial1/blob/main/EjercicioPiton16.ipynb\" target=\"_parent\"><img src=\"https://colab.research.google.com/assets/colab-badge.svg\" alt=\"Open In Colab\"/></a>"
      ]
    },
    {
      "cell_type": "markdown",
      "source": [
        "### UPIIH_PROGRAMACION AVANZADA\n",
        "***PROGRAMA  QUE TE DA LOS NUMEROS NARCICISTAS EN UN INTERVALO***\n",
        "######Danna Paola Montes de Oca Hernandez\n",
        "2021680104\n"
      ],
      "metadata": {
        "id": "msS1OVM2Y4sk"
      }
    },
    {
      "cell_type": "code",
      "source": [
        "i=1\n",
        "while i==1:\n",
        " i=0\n",
        " try:\n",
        "  print('Ingresa dos numeros enteros')\n",
        "  a= int(input('Ingrese valor entero:'))\n",
        "  b= int(input('Ingrese valor entero:'))\n",
        "  print('\\t')\n",
        " except ValueError:\n",
        "    i += 1\n",
        "\n",
        " intervalo=[]\n",
        " for i in range(a,b+1):\n",
        "  intervalo.append(i)\n",
        "\n",
        " long= len(intervalo)\n",
        " print('\\t')\n",
        "\n",
        " suma=0\n",
        " mom=0\n",
        " nvlis=[]\n",
        " ###\n",
        " for j in range(len(intervalo)):\n",
        "     suma=0\n",
        "     mom=str(intervalo[j])\n",
        "     longitud=len(mom)\n",
        "\n",
        "     for o in mom:\n",
        "       suma=suma+pow((int(o)),longitud)\n",
        "     if suma==int(mom):\n",
        "       nvlis.append(mom)\n",
        " \n",
        " ###\n",
        "print('Los numeros narcicistas son: ',*nvlis)\n",
        "if a >b or a==b:\n",
        "    i += 1\n",
        "    print(\"Valor NO válido\")"
      ],
      "metadata": {
        "colab": {
          "base_uri": "https://localhost:8080/"
        },
        "id": "gX1aR3BfY5D5",
        "outputId": "c93c0242-00f0-4202-e34d-f1d8f7678b31"
      },
      "execution_count": 33,
      "outputs": [
        {
          "output_type": "stream",
          "name": "stdout",
          "text": [
            "Ingresa dos numeros enteros\n",
            "Ingrese valor entero:1\n",
            "Ingrese valor entero:500\n",
            "\t\n",
            "\t\n",
            "Los numeros narcicistas son:  1 2 3 4 5 6 7 8 9 153 370 371 407\n"
          ]
        }
      ]
    }
  ]
}