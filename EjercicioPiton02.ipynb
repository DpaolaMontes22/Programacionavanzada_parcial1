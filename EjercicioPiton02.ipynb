{
  "nbformat": 4,
  "nbformat_minor": 0,
  "metadata": {
    "colab": {
      "name": " EjercicioPiton02.ipynb",
      "provenance": [],
      "authorship_tag": "ABX9TyOsEvzx4XvCpIf0ODcW5C9b",
      "include_colab_link": true
    },
    "kernelspec": {
      "name": "python3",
      "display_name": "Python 3"
    },
    "language_info": {
      "name": "python"
    }
  },
  "cells": [
    {
      "cell_type": "markdown",
      "metadata": {
        "id": "view-in-github",
        "colab_type": "text"
      },
      "source": [
        "<a href=\"https://colab.research.google.com/github/DpaolaMontes22/Programacionavanzada_parcial1/blob/main/EjercicioPiton02.ipynb\" target=\"_parent\"><img src=\"https://colab.research.google.com/assets/colab-badge.svg\" alt=\"Open In Colab\"/></a>"
      ]
    },
    {
      "cell_type": "code",
      "source": [
        "UPIIH_PROGRAMACION AVANZADA\n",
        "PROGRAMA DE NUMEROS PARES O IMPARES(ENTEROS)\n",
        "\n",
        "Danna Paola Montes de Oca Hernandez\n",
        "2021680104"
      ],
      "metadata": {
        "id": "pDZVv9SfruCA"
      },
      "execution_count": null,
      "outputs": []
    },
    {
      "cell_type": "code",
      "execution_count": 37,
      "metadata": {
        "colab": {
          "base_uri": "https://localhost:8080/"
        },
        "id": "LBagVKFJzGkT",
        "outputId": "e1dd6429-ccd2-4912-91fb-191a9f95496e"
      },
      "outputs": [
        {
          "output_type": "stream",
          "name": "stdout",
          "text": [
            "Ingrese valor entero:6\n",
            "Numero     Resultado \n",
            "    1         6     \n",
            "    2         12    \n",
            "    3         18    \n",
            "    4         24    \n",
            "    5         30    \n",
            "    6         36    \n",
            "    7         42    \n",
            "    8         48    \n",
            "    9         54    \n",
            "    10        60    \n"
          ]
        }
      ],
      "source": [
        "from tabulate import tabulate\n",
        "i=1\n",
        "while i==1:\n",
        " i=0\n",
        " try:\n",
        "  entero = int(input('Ingrese valor entero:'))\n",
        " except ValueError:\n",
        "   i += 1\n",
        " print (\"{:<10} {:<10}\".format('Numero','Resultado'))\n",
        "multiplica=[]\n",
        "resultado=[]\n",
        "for clave in diccionario:\n",
        "  multiplica.append(clave)\n",
        "  resultado.append(diccionario[clave])\n",
        "for i in range (10):\n",
        " print('{:^10}{:^10}'.format(multiplica[i],resultado[i])) \n",
        "if entero < 0 :\n",
        "  i += 1\n",
        "elif entero>10:\n",
        "  i += 1"
      ]
    }
  ]
}