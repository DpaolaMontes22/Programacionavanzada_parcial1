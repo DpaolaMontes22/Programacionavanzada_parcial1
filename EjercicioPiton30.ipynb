{
  "nbformat": 4,
  "nbformat_minor": 0,
  "metadata": {
    "colab": {
      "name": "EjercicioPiton30.ipynb",
      "provenance": [],
      "collapsed_sections": [],
      "authorship_tag": "ABX9TyM7IDkwqLyeX+UHhpSLFc9B",
      "include_colab_link": true
    },
    "kernelspec": {
      "name": "python3",
      "display_name": "Python 3"
    },
    "language_info": {
      "name": "python"
    }
  },
  "cells": [
    {
      "cell_type": "markdown",
      "metadata": {
        "id": "view-in-github",
        "colab_type": "text"
      },
      "source": [
        "<a href=\"https://colab.research.google.com/github/DpaolaMontes22/Programacionavanzada_parcial1/blob/main/EjercicioPiton30.ipynb\" target=\"_parent\"><img src=\"https://colab.research.google.com/assets/colab-badge.svg\" alt=\"Open In Colab\"/></a>"
      ]
    },
    {
      "cell_type": "code",
      "execution_count": null,
      "metadata": {
        "id": "tLZc1GIrvnDF"
      },
      "outputs": [],
      "source": [
        ""
      ]
    },
    {
      "cell_type": "markdown",
      "source": [
        "\n",
        "UPIIH_PROGRAMACION AVANZADA\n",
        "\n",
        "PROGRAMA QUE OBTIENE LAS PERMUTACIONES\n",
        "\n",
        "Danna Paola Montes de Oca Hernandez\n",
        "2021680104"
      ],
      "metadata": {
        "id": "YtmRNBm_wYrC"
      }
    },
    {
      "cell_type": "code",
      "source": [
        "import itertools\n",
        "\n",
        "lis=[]\n",
        "t=0\n",
        "while t==0:\n",
        "  t=1\n",
        "  o=1\n",
        "  while o==1:\n",
        "   o=0\n",
        "   entero = input('Ingrese valor entero:')\n",
        "   if entero.isalpha( ):\n",
        "    print('tu valor no es numerico')\n",
        "    o=1\n",
        "  print('¿Desea agregar otro numero? Si o No')\n",
        "  respuesta=input()\n",
        "\n",
        "  try:\n",
        "   entero = int(entero)\n",
        "   respuesta = str(respuesta)\n",
        "  except ValueError:\n",
        "    t += 1\n",
        "\n",
        "  lis.append(entero)\n",
        "  if len(lis)>6:\n",
        "    print(\"Se admiten menos de 6 numeros\")\n",
        "    break\n",
        "  if respuesta=='Si':\n",
        "   t=0\n",
        "  elif respuesta== 'No':\n",
        "   break\n",
        "  elif respuesta!='Si':\n",
        "   print('Respuesta incorrecta X')\n",
        "   t=0\n",
        "  elif respuesta!='No':\n",
        "   print('Respuesta incorrecta X')\n",
        "   t=0\n",
        "\n",
        "  lis.append(entero)\n",
        "print(len(lis))\n",
        "if len(lis)<2 :\n",
        "    t=0\n",
        "    print(\"Se necesitan al menos dos numeros\")\n",
        "\n",
        "    \n",
        "permutations = list(itertools.permutations(lis))\n",
        "print(permutations)"
      ],
      "metadata": {
        "colab": {
          "base_uri": "https://localhost:8080/"
        },
        "id": "o8HCj1GBwY5k",
        "outputId": "c286a19f-1d26-484f-e959-481723e53103"
      },
      "execution_count": 6,
      "outputs": [
        {
          "output_type": "stream",
          "name": "stdout",
          "text": [
            "Ingrese valor entero:2\n",
            "¿Desea agregar otro numero? Si o No\n",
            "Si\n",
            "Ingrese valor entero:2\n",
            "¿Desea agregar otro numero? Si o No\n",
            "No\n",
            "3\n",
            "[(2, 2, 2), (2, 2, 2), (2, 2, 2), (2, 2, 2), (2, 2, 2), (2, 2, 2)]\n"
          ]
        }
      ]
    }
  ]
}