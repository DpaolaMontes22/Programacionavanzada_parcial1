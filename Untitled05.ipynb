{
  "nbformat": 4,
  "nbformat_minor": 0,
  "metadata": {
    "colab": {
      "name": "Untitled05.ipynb",
      "provenance": [],
      "authorship_tag": "ABX9TyNemqILG/u9BYSBg1LckKRn",
      "include_colab_link": true
    },
    "kernelspec": {
      "name": "python3",
      "display_name": "Python 3"
    },
    "language_info": {
      "name": "python"
    }
  },
  "cells": [
    {
      "cell_type": "markdown",
      "metadata": {
        "id": "view-in-github",
        "colab_type": "text"
      },
      "source": [
        "<a href=\"https://colab.research.google.com/github/DpaolaMontes22/Programacionavanzada_parcial1/blob/main/Untitled05.ipynb\" target=\"_parent\"><img src=\"https://colab.research.google.com/assets/colab-badge.svg\" alt=\"Open In Colab\"/></a>"
      ]
    },
    {
      "cell_type": "markdown",
      "source": [
        "UPIIH_PROGRAMACION AVANZADA\n",
        "PROGRAMA DE NUMEROS PARES O IMPARES(ENTEROS)\n",
        "\n",
        "Danna Paola Montes de Oca Hernandez\n",
        "2021680104"
      ],
      "metadata": {
        "id": "Jp3Cp41xMve7"
      }
    },
    {
      "cell_type": "code",
      "source": [
        "i=1\n",
        "while i==1:\n",
        " i=0\n",
        " try:\n",
        "  entero = int(input('Ingrese valor entero:'))\n",
        " except ValueError:\n",
        "   i += 1 \n",
        "for i in range(1, entero+1): \n",
        "    for j in range(0,entero-i+1): \n",
        "        print(' ', end='')  \n",
        "    k = 1\n",
        "    for j in range(1, i+1):  \n",
        "        print(' ', k, sep='', end='')  \n",
        "        k = k * (i - j) // j \n",
        "    print() \n",
        "if entero < 0 :\n",
        " i += 1"
      ],
      "metadata": {
        "colab": {
          "base_uri": "https://localhost:8080/"
        },
        "id": "KuveBuk6Mxxe",
        "outputId": "0265c2c8-1675-42cc-de91-2273c730cd11"
      },
      "execution_count": 50,
      "outputs": [
        {
          "output_type": "stream",
          "name": "stdout",
          "text": [
            "Ingrese valor entero:6\n",
            "       1\n",
            "      1 1\n",
            "     1 2 1\n",
            "    1 3 3 1\n",
            "   1 4 6 4 1\n",
            "  1 5 10 10 5 1\n"
          ]
        }
      ]
    }
  ]
}