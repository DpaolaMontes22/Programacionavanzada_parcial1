{
  "nbformat": 4,
  "nbformat_minor": 0,
  "metadata": {
    "colab": {
      "name": "EjercicioPiton14.ipynb",
      "provenance": [],
      "collapsed_sections": [],
      "authorship_tag": "ABX9TyOiSoDbs9gGPxe9GuNcfa4B",
      "include_colab_link": true
    },
    "kernelspec": {
      "name": "python3",
      "display_name": "Python 3"
    },
    "language_info": {
      "name": "python"
    }
  },
  "cells": [
    {
      "cell_type": "markdown",
      "metadata": {
        "id": "view-in-github",
        "colab_type": "text"
      },
      "source": [
        "<a href=\"https://colab.research.google.com/github/DpaolaMontes22/Programacionavanzada_parcial1/blob/main/EjercicioPiton14.ipynb\" target=\"_parent\"><img src=\"https://colab.research.google.com/assets/colab-badge.svg\" alt=\"Open In Colab\"/></a>"
      ]
    },
    {
      "cell_type": "markdown",
      "source": [
        "UPIIH_PROGRAMACION AVANZADA\n",
        "\n",
        "PROGRAMA QUE GENERA NUEROS PSEUDOALEATORIOS\n",
        "\n",
        "Danna Paola Montes de Oca Hernandez\n",
        "2021680104"
      ],
      "metadata": {
        "id": "sLg2jsaDBnKh"
      }
    },
    {
      "cell_type": "code",
      "source": [
        "i=1\n",
        "while i==1:\n",
        " i=0\n",
        "\n",
        " entero = input(\"Ingresa la cantidad de elementos a generar: \")\n",
        " x   = input(\"Ingrese el valor del multuplicador: \")\n",
        " x1   = input(\"Ingrese el valor del sesgo: \")\n",
        " x2  =  input(\"Ingrese el valor del módulo: \")\n",
        "\n",
        " try:\n",
        "  entero   = int(entero)\n",
        "  x   = int(x)\n",
        "  x1   = int(x1)\n",
        "  x2   = int(x2)\n",
        " except ValueError:\n",
        "   i += 1\n",
        "\n",
        " matrix1 = []\n",
        " matrix2 = []\n",
        " producto = []\n",
        " resultado = []\n",
        "\n",
        "for j in range (0, entero):\n",
        "  matrix1.append(j)\n",
        "\n",
        "for k in range (1, entero+1):\n",
        "  matrix2.append(k)\n",
        "lista = []\n",
        "\n",
        "for i in range (len(matrix1)):\n",
        "  lista.append(matrix1[i]+matrix2[i])\n",
        "\n",
        "for z in lista:\n",
        "  w = ((z*x)+x1) % x2\n",
        "  producto.append(w)\n",
        "\n",
        "for x in producto:\n",
        "  res = x / x2\n",
        "  resultado.append(res)\n",
        "print(resultado)"
      ],
      "metadata": {
        "colab": {
          "base_uri": "https://localhost:8080/"
        },
        "id": "y6Gj1Qc7BntQ",
        "outputId": "8ff4bd51-3040-416f-c62c-f04dbb060599"
      },
      "execution_count": 8,
      "outputs": [
        {
          "output_type": "stream",
          "name": "stdout",
          "text": [
            "Ingresa la cantidad de elementos a generar: 3\n",
            "Ingrese el valor del multuplicador: 2\n",
            "Ingrese el valor del sesgo: 4\n",
            "Ingrese el valor del módulo: 6\n",
            "[0.0, 0.6666666666666666, 0.3333333333333333]\n"
          ]
        }
      ]
    }
  ]
}