{
  "nbformat": 4,
  "nbformat_minor": 0,
  "metadata": {
    "colab": {
      "name": "EjercicioPiton24.ipynb",
      "provenance": [],
      "collapsed_sections": [],
      "authorship_tag": "ABX9TyN2SrJI58z0lEpAA8WeLlyy",
      "include_colab_link": true
    },
    "kernelspec": {
      "name": "python3",
      "display_name": "Python 3"
    },
    "language_info": {
      "name": "python"
    }
  },
  "cells": [
    {
      "cell_type": "markdown",
      "metadata": {
        "id": "view-in-github",
        "colab_type": "text"
      },
      "source": [
        "<a href=\"https://colab.research.google.com/github/DpaolaMontes22/Programacionavanzada_parcial1/blob/main/EjercicioPiton24.ipynb\" target=\"_parent\"><img src=\"https://colab.research.google.com/assets/colab-badge.svg\" alt=\"Open In Colab\"/></a>"
      ]
    },
    {
      "cell_type": "markdown",
      "source": [
        ""
      ],
      "metadata": {
        "id": "16uGPupGE7fe"
      }
    },
    {
      "cell_type": "code",
      "source": [
        " UPIIH_PROGRAMACION AVANZADA \n",
        " \n",
        " PROGRAMA QUE TE PERMITE INGRESAR UNA FRASE DE TEXTO E IMPRIMIRLA ELIMINANDO LOS ESPACIOS\n",
        "\n",
        "Danna Paola Montes de Oca Hernandez 2021680104"
      ],
      "metadata": {
        "id": "BRiho2yfSAh0"
      },
      "execution_count": null,
      "outputs": []
    },
    {
      "cell_type": "code",
      "source": [
        "i=1\n",
        "while i==1:\n",
        " i=0\n",
        " frases = input('Ingrese valor entero:')\n",
        " try:\n",
        "  frase = str(frases)\n",
        " except ValueError:\n",
        "   i += 1\n",
        " \n",
        " frasep=[]\n",
        " frasep=frase.split(' ')\n",
        " for y in frasep:\n",
        "  numerico=y.isnumeric()\n",
        "\n",
        " if len(frases) > 100  :\n",
        "    i = 1\n",
        " elif numerico==True:\n",
        "    i = 1\n",
        " else:\n",
        "  for j in frasep:\n",
        "    print(j,end=' ')\n",
        "  print('\\t')\n",
        "  while len(frasep) > 0:\n",
        "    frasep.pop()\n",
        "    for j in frasep:\n",
        "      print(j,end=' ')\n",
        "    print('\\t')\n"
      ],
      "metadata": {
        "colab": {
          "base_uri": "https://localhost:8080/"
        },
        "id": "xfmLOHMyE8Eg",
        "outputId": "f921e0ee-1012-4ebf-f325-70cd57b6f4a5"
      },
      "execution_count": 65,
      "outputs": [
        {
          "output_type": "stream",
          "name": "stdout",
          "text": [
            "Ingrese valor entero:234 45\n",
            "Ingrese valor entero:HOLA A TODOS USTEDES TERRICOLAS\n",
            "HOLA A TODOS USTEDES TERRICOLAS \t\n",
            "HOLA A TODOS USTEDES \t\n",
            "HOLA A TODOS \t\n",
            "HOLA A \t\n",
            "HOLA \t\n",
            "\t\n"
          ]
        }
      ]
    }
  ]
}