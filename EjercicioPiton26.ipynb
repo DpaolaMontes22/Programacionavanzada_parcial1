{
  "nbformat": 4,
  "nbformat_minor": 0,
  "metadata": {
    "colab": {
      "name": "EjercicioPiton26.ipynb",
      "provenance": [],
      "collapsed_sections": [],
      "authorship_tag": "ABX9TyPmttOMXd2Yl7fqU70BAM4S",
      "include_colab_link": true
    },
    "kernelspec": {
      "name": "python3",
      "display_name": "Python 3"
    },
    "language_info": {
      "name": "python"
    }
  },
  "cells": [
    {
      "cell_type": "markdown",
      "metadata": {
        "id": "view-in-github",
        "colab_type": "text"
      },
      "source": [
        "<a href=\"https://colab.research.google.com/github/DpaolaMontes22/Programacionavanzada_parcial1/blob/main/EjercicioPiton26.ipynb\" target=\"_parent\"><img src=\"https://colab.research.google.com/assets/colab-badge.svg\" alt=\"Open In Colab\"/></a>"
      ]
    },
    {
      "cell_type": "markdown",
      "source": [
        "### UPIIH_PROGRAMACION AVANZADA\n",
        "***PROGRAMA QUE HACE LA ENCRITACION DE UN MENSAJE CON CIFRADO CESAR  ***\n",
        "\n",
        "######Danna Paola Montes de Oca Hernandez\n",
        "2021680104\n"
      ],
      "metadata": {
        "id": "msS1OVM2Y4sk"
      }
    },
    {
      "cell_type": "code",
      "source": [
        "from IPython.core.display import JSON\n",
        "i=1\n",
        "while i==1:\n",
        "  i=0\n",
        "\n",
        "print('Ingrese una frase:')\n",
        "frases=input()\n",
        "\n",
        "print('Ingrese el numero de posiciones a desplazar:')\n",
        "numeros=input()\n",
        "print('\\n')\n",
        "\n",
        "try:\n",
        " frase=str(frases)\n",
        " numero=int(numeros)\n",
        "except:\n",
        "  i+=1\n",
        "\n",
        "alfabeto='abcdefghijklmnñopqrstuvwxyzABCDEFGHIJKLMNÑOPQRSTUVWXYZ'\n",
        "\n",
        "#hola cara de bola\n",
        "#krñd fdud gh erñd\n",
        "\n",
        "contador=0\n",
        "while contador==0:\n",
        " for i in frase:\n",
        "   print(i)\n",
        "   for j in range(len(alfabeto)): \n",
        "    if i==alfabeto[j]:  \n",
        "     print(alfabeto[j+numero])\n",
        "     frase=frase.replace(i,alfabeto[j+numero])\n",
        "     print(frase)\n",
        "     contador=1\n",
        "     \n",
        "\n",
        "\n",
        "\n",
        "print(frase)\n",
        "i=1"
      ],
      "metadata": {
        "colab": {
          "base_uri": "https://localhost:8080/"
        },
        "id": "o6f1-XUEtBmw",
        "outputId": "d4a07eb8-97ec-4f20-8c8d-cc6d0961cb4b"
      },
      "execution_count": 12,
      "outputs": [
        {
          "output_type": "stream",
          "name": "stdout",
          "text": [
            "Ingrese una frase:\n",
            "hola cara de bola\n",
            "Ingrese el numero de posiciones a desplazar:\n",
            "3\n",
            "\n",
            "\n",
            "h\n",
            "k\n",
            "kola cara de bola\n",
            "o\n",
            "r\n",
            "krla cara de brla\n",
            "l\n",
            "ñ\n",
            "krña cara de brña\n",
            "a\n",
            "d\n",
            "krñd cdrd de brñd\n",
            " \n",
            "c\n",
            "f\n",
            "krñd fdrd de brñd\n",
            "a\n",
            "d\n",
            "krñd fdrd de brñd\n",
            "r\n",
            "u\n",
            "kuñd fdud de buñd\n",
            "a\n",
            "d\n",
            "kuñd fdud de buñd\n",
            " \n",
            "d\n",
            "g\n",
            "kuñg fgug ge buñg\n",
            "e\n",
            "h\n",
            "kuñg fgug gh buñg\n",
            " \n",
            "b\n",
            "e\n",
            "kuñg fgug gh euñg\n",
            "o\n",
            "r\n",
            "kuñg fgug gh euñg\n",
            "l\n",
            "ñ\n",
            "kuñg fgug gh euñg\n",
            "a\n",
            "d\n",
            "kuñg fgug gh euñg\n",
            "kuñg fgug gh euñg\n"
          ]
        }
      ]
    }
  ]
}